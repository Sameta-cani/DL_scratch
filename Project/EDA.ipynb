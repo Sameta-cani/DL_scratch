{
 "cells": [
  {
   "cell_type": "markdown",
   "metadata": {},
   "source": [
    "# Import"
   ]
  },
  {
   "cell_type": "code",
   "execution_count": 2,
   "metadata": {},
   "outputs": [],
   "source": [
    "import numpy as np\n",
    "import pandas as pd\n",
    "\n",
    "import matplotlib.pyplot as plt\n",
    "%matplotlib inline\n",
    "\n",
    "import time\n",
    "import sys, os\n",
    "os.chdir('../')\n",
    "\n",
    "from tqdm import tqdm\n",
    "\n",
    "from fashion_dataset.fashion_mnist_reader import load_mnist\n",
    "from common.multi_layer_net_extend import MultiLayerNetExtend\n",
    "from common.optimizer import *\n",
    "from common.scheduling import one_cycle_lr_schedule"
   ]
  },
  {
   "cell_type": "code",
   "execution_count": 27,
   "metadata": {},
   "outputs": [
    {
     "data": {
      "text/plain": [
       "'c:\\\\Users\\\\Sangjin\\\\DL_scratch'"
      ]
     },
     "execution_count": 27,
     "metadata": {},
     "output_type": "execute_result"
    }
   ],
   "source": [
    "import os \n",
    "os.getcwd()"
   ]
  },
  {
   "cell_type": "code",
   "execution_count": 7,
   "metadata": {},
   "outputs": [],
   "source": [
    "import os\n",
    "\n",
    "os.chdir('/Users/Sangjin/DL_scratch/')"
   ]
  },
  {
   "cell_type": "markdown",
   "metadata": {},
   "source": [
    "# Load Data"
   ]
  },
  {
   "cell_type": "code",
   "execution_count": 40,
   "metadata": {},
   "outputs": [
    {
     "name": "stdout",
     "output_type": "stream",
     "text": [
      "x_train shape: (60000, 784), y_train shape: (60000,)\n",
      "x_test shape: (10000, 784), y_test shape: (10000,)\n"
     ]
    }
   ],
   "source": [
    "x_train, y_train = load_mnist(path='fashion_dataset/', kind='train')\n",
    "\n",
    "x_test, y_test = load_mnist(path='fashion_dataset/', kind='t10k')\n",
    "\n",
    "print(f\"x_train shape: {x_train.shape}, y_train shape: {y_train.shape}\")\n",
    "print(f\"x_test shape: {x_test.shape}, y_test shape: {y_test.shape}\")"
   ]
  },
  {
   "cell_type": "code",
   "execution_count": 47,
   "metadata": {},
   "outputs": [
    {
     "name": "stdout",
     "output_type": "stream",
     "text": [
      "x_train shape: (60000, 784), y_train shape: (60000,)\n",
      "x_test shape: (10000, 784), y_test shape: (10000,)\n"
     ]
    }
   ],
   "source": [
    "x_train, y_train = load_mnist(path='fashion_dataset/', kind='train', normalize=False)\n",
    "\n",
    "x_test, y_test = load_mnist(path='fashion_dataset/', kind='t10k')\n",
    "\n",
    "print(f\"x_train shape: {x_train.shape}, y_train shape: {y_train.shape}\")\n",
    "print(f\"x_test shape: {x_test.shape}, y_test shape: {y_test.shape}\")"
   ]
  },
  {
   "cell_type": "code",
   "execution_count": 57,
   "metadata": {},
   "outputs": [
    {
     "data": {
      "image/png": "[encoded data removed]",
      "text/plain": [
       "<Figure size 1080x360 with 2 Axes>"
      ]
     },
     "metadata": {
      "needs_background": "light"
     },
     "output_type": "display_data"
    }
   ],
   "source": [
    "import matplotlib.pyplot as plt\n",
    "import numpy as np\n",
    "from sklearn.preprocessing import StandardScaler\n",
    "\n",
    "# 데이터 표준화\n",
    "scaler = StandardScaler()\n",
    "standardized_data = scaler.fit_transform(x_train)\n",
    "\n",
    "# 히스토그램 그리기\n",
    "plt.figure(figsize=(15, 5))\n",
    "\n",
    "# 원본 데이터의 히스토그램\n",
    "plt.subplot(1, 2, 1)\n",
    "plt.hist(x_train.flatten(), bins=30, color='blue', alpha=0.7)\n",
    "plt.title('Original Data Distribution')\n",
    "plt.xlabel('Values')\n",
    "plt.ylabel('Frequency')\n",
    "\n",
    "# 표준화된 데이터의 히스토그램\n",
    "plt.subplot(1, 2, 2)\n",
    "plt.hist(standardized_data.flatten(), bins=30, color='orange', alpha=0.7, range=(-2, 2))\n",
    "plt.title('Standardized Data Distribution (0~1 Range)')\n",
    "plt.xlabel('Values')\n",
    "plt.ylabel('Frequency')\n",
    "\n",
    "plt.tight_layout()\n",
    "plt.show()"
   ]
  },
  {
   "cell_type": "code",
   "execution_count": 5,
   "metadata": {},
   "outputs": [
    {
     "name": "stdout",
     "output_type": "stream",
     "text": [
      "x_train shape: (60000, 784), y_train shape: (60000,)\n",
      "60000 train set\n",
      "10000 test set\n"
     ]
    }
   ],
   "source": [
    "print(f\"x_train shape: {x_train.shape}, y_train shape: {y_train.shape}\")\n",
    "\n",
    "x_train = x_train.reshape(x_train.shape[0], 28, 28)\n",
    "x_test = x_test.reshape(x_test.shape[0], 28, 28)\n",
    "\n",
    "# Print the number of training and test datasets\n",
    "print(f'{x_train.shape[0]} train set')\n",
    "print(f'{x_test.shape[0]} test set')\n",
    "\n",
    "# Define the text labels\n",
    "fashion_mnist_labels = [\"T-shirt/top\",  # index 0\n",
    "                        \"Trouser\",      # index 1\n",
    "                        \"Pullover\",     # index 2 \n",
    "                        \"Dress\",        # index 3 \n",
    "                        \"Coat\",         # index 4\n",
    "                        \"Sandal\",       # index 5\n",
    "                        \"Shirt\",        # index 6 \n",
    "                        \"Sneaker\",      # index 7 \n",
    "                        \"Bag\",          # index 8 \n",
    "                        \"Ankle boot\"]   # index 9"
   ]
  },
  {
   "cell_type": "code",
   "execution_count": 16,
   "metadata": {},
   "outputs": [
    {
     "data": {
      "text/plain": [
       "Ankle Boot     6000\n",
       "T-shirt/top    6000\n",
       "Dress          6000\n",
       "Pullover       6000\n",
       "Sneaker        6000\n",
       "Sandal         6000\n",
       "Trouser        6000\n",
       "Shirt          6000\n",
       "Coat           6000\n",
       "Bag            6000\n",
       "dtype: int64"
      ]
     },
     "execution_count": 16,
     "metadata": {},
     "output_type": "execute_result"
    }
   ],
   "source": [
    "# Create a dictionary for each type of label \n",
    "labels = {0 : \"T-shirt/top\", 1: \"Trouser\", 2: \"Pullover\", 3: \"Dress\", 4: \"Coat\",\n",
    "          5: \"Sandal\", 6: \"Shirt\", 7: \"Sneaker\", 8: \"Bag\", 9: \"Ankle Boot\"}\n",
    "\n",
    "def get_classes_distribution(data, normalize=False):\n",
    "    # Get the count for each label\n",
    "    data = pd.Series(data).map(labels)\n",
    "    label_counts = data.value_counts()\n",
    "\n",
    "    return label_counts\n",
    "\n",
    "get_classes_distribution(y_train)"
   ]
  },
  {
   "cell_type": "code",
   "execution_count": 17,
   "metadata": {},
   "outputs": [
    {
     "data": {
      "text/plain": [
       "Ankle Boot     1000\n",
       "Pullover       1000\n",
       "Trouser        1000\n",
       "Shirt          1000\n",
       "Coat           1000\n",
       "Sandal         1000\n",
       "Sneaker        1000\n",
       "Dress          1000\n",
       "Bag            1000\n",
       "T-shirt/top    1000\n",
       "dtype: int64"
      ]
     },
     "execution_count": 17,
     "metadata": {},
     "output_type": "execute_result"
    }
   ],
   "source": [
    "get_classes_distribution(y_test)"
   ]
  },
  {
   "cell_type": "code",
   "execution_count": 7,
   "metadata": {},
   "outputs": [
    {
     "data": {
      "image/png": "[encoded data removed]",
      "text/plain": [
       "<Figure size 720x720 with 36 Axes>"
      ]
     },
     "metadata": {},
     "output_type": "display_data"
    }
   ],
   "source": [
    "class_names = ['T_shirt/top', 'Trouser', 'Pullover', 'Dress', 'Coat', \n",
    "               'Sandal', 'Shirt', 'Sneaker', 'Bag', 'Ankle boot']\n",
    "\n",
    "plt.figure(figsize=(10, 10))\n",
    "\n",
    "for i in range(36):\n",
    "    plt.subplot(6, 6, i + 1)\n",
    "    plt.xticks([])\n",
    "    plt.yticks([])\n",
    "    plt.grid(False)\n",
    "    plt.imshow(x_train[i].reshape((28,28)))\n",
    "    label_index = int(y_train[i])\n",
    "    plt.title(class_names[label_index])\n",
    "\n",
    "plt.tight_layout()\n",
    "plt.show()"
   ]
  },
  {
   "cell_type": "code",
   "execution_count": 10,
   "metadata": {},
   "outputs": [
    {
     "data": {
      "image/png": "[encoded data removed]",
      "text/plain": [
       "<Figure size 1440x144 with 10 Axes>"
      ]
     },
     "metadata": {
      "needs_background": "light"
     },
     "output_type": "display_data"
    }
   ],
   "source": [
    "# 각 레이블에 해당하는 한 개의 이미지를 가져와서 한 줄로 출력\n",
    "labels_to_display = list(range(10))  # 0부터 9까지의 레이블을 표시\n",
    "\n",
    "fig, axs = plt.subplots(1, 10, figsize=(20, 2))  # 1행 10열의 subplot을 만듦\n",
    "\n",
    "for i, label in enumerate(labels_to_display):\n",
    "    # 해당 레이블의 첫 번째 이미지를 찾음\n",
    "    index = next(idx for idx, value in enumerate(y_train) if value == label)\n",
    "    \n",
    "    # 이미지 출력\n",
    "    axs[i].imshow(x_train[index], cmap='gray')\n",
    "    axs[i].axis('off')\n",
    "    axs[i].set_title(f'{class_names[label]}')\n",
    "\n",
    "plt.show()"
   ]
  },
  {
   "cell_type": "code",
   "execution_count": 34,
   "metadata": {},
   "outputs": [
    {
     "data": {
      "text/html": [
       "<div>\n",
       "<style scoped>\n",
       "    .dataframe tbody tr th:only-of-type {\n",
       "        vertical-align: middle;\n",
       "    }\n",
       "\n",
       "    .dataframe tbody tr th {\n",
       "        vertical-align: top;\n",
       "    }\n",
       "\n",
       "    .dataframe thead th {\n",
       "        text-align: right;\n",
       "    }\n",
       "</style>\n",
       "<table border=\"1\" class=\"dataframe\">\n",
       "  <thead>\n",
       "    <tr style=\"text-align: right;\">\n",
       "      <th></th>\n",
       "      <th>hidden_size_list</th>\n",
       "      <th>activation</th>\n",
       "      <th>weight_init_std</th>\n",
       "      <th>weight_decay_lambda</th>\n",
       "      <th>use_dropout</th>\n",
       "      <th>dropout_ratio</th>\n",
       "      <th>use_batchnorm</th>\n",
       "      <th>iters_num</th>\n",
       "      <th>batch_size</th>\n",
       "      <th>learning_rate</th>\n",
       "      <th>optimizer</th>\n",
       "      <th>train_acc</th>\n",
       "      <th>test_acc</th>\n",
       "      <th>time</th>\n",
       "    </tr>\n",
       "  </thead>\n",
       "  <tbody>\n",
       "    <tr>\n",
       "      <th>0</th>\n",
       "      <td>[512, 256, 128]</td>\n",
       "      <td>selu_tmp</td>\n",
       "      <td>xavier</td>\n",
       "      <td>0.000002</td>\n",
       "      <td>True</td>\n",
       "      <td>0.30</td>\n",
       "      <td>False</td>\n",
       "      <td>10000</td>\n",
       "      <td>512</td>\n",
       "      <td>0.01</td>\n",
       "      <td>Momentum</td>\n",
       "      <td>0.980167</td>\n",
       "      <td>0.9062</td>\n",
       "      <td>824.248010</td>\n",
       "    </tr>\n",
       "    <tr>\n",
       "      <th>1</th>\n",
       "      <td>[256, 128]</td>\n",
       "      <td>selu_tmp</td>\n",
       "      <td>xavier</td>\n",
       "      <td>0.000000</td>\n",
       "      <td>True</td>\n",
       "      <td>0.25</td>\n",
       "      <td>False</td>\n",
       "      <td>10000</td>\n",
       "      <td>512</td>\n",
       "      <td>0.01</td>\n",
       "      <td>Momentum</td>\n",
       "      <td>0.978617</td>\n",
       "      <td>0.9057</td>\n",
       "      <td>346.187427</td>\n",
       "    </tr>\n",
       "    <tr>\n",
       "      <th>2</th>\n",
       "      <td>[512, 256, 128]</td>\n",
       "      <td>elu</td>\n",
       "      <td>he</td>\n",
       "      <td>0.000000</td>\n",
       "      <td>False</td>\n",
       "      <td>NaN</td>\n",
       "      <td>True</td>\n",
       "      <td>10000</td>\n",
       "      <td>512</td>\n",
       "      <td>0.01</td>\n",
       "      <td>Nadam</td>\n",
       "      <td>1.000000</td>\n",
       "      <td>0.9038</td>\n",
       "      <td>949.484395</td>\n",
       "    </tr>\n",
       "    <tr>\n",
       "      <th>3</th>\n",
       "      <td>[256, 64]</td>\n",
       "      <td>selu_tmp</td>\n",
       "      <td>xavier</td>\n",
       "      <td>0.000000</td>\n",
       "      <td>True</td>\n",
       "      <td>0.25</td>\n",
       "      <td>False</td>\n",
       "      <td>10000</td>\n",
       "      <td>512</td>\n",
       "      <td>0.01</td>\n",
       "      <td>Momentum</td>\n",
       "      <td>0.974417</td>\n",
       "      <td>0.9030</td>\n",
       "      <td>340.173420</td>\n",
       "    </tr>\n",
       "    <tr>\n",
       "      <th>4</th>\n",
       "      <td>[256, 32]</td>\n",
       "      <td>selu_tmp</td>\n",
       "      <td>xavier</td>\n",
       "      <td>0.000000</td>\n",
       "      <td>True</td>\n",
       "      <td>0.25</td>\n",
       "      <td>False</td>\n",
       "      <td>10000</td>\n",
       "      <td>512</td>\n",
       "      <td>0.01</td>\n",
       "      <td>Momentum</td>\n",
       "      <td>0.970800</td>\n",
       "      <td>0.9025</td>\n",
       "      <td>340.128564</td>\n",
       "    </tr>\n",
       "    <tr>\n",
       "      <th>...</th>\n",
       "      <td>...</td>\n",
       "      <td>...</td>\n",
       "      <td>...</td>\n",
       "      <td>...</td>\n",
       "      <td>...</td>\n",
       "      <td>...</td>\n",
       "      <td>...</td>\n",
       "      <td>...</td>\n",
       "      <td>...</td>\n",
       "      <td>...</td>\n",
       "      <td>...</td>\n",
       "      <td>...</td>\n",
       "      <td>...</td>\n",
       "      <td>...</td>\n",
       "    </tr>\n",
       "    <tr>\n",
       "      <th>87</th>\n",
       "      <td>[128, 32]</td>\n",
       "      <td>elu</td>\n",
       "      <td>he</td>\n",
       "      <td>0.000000</td>\n",
       "      <td>True</td>\n",
       "      <td>0.50</td>\n",
       "      <td>False</td>\n",
       "      <td>10000</td>\n",
       "      <td>512</td>\n",
       "      <td>0.01</td>\n",
       "      <td>Momentum</td>\n",
       "      <td>0.853458</td>\n",
       "      <td>0.8415</td>\n",
       "      <td>41.790797</td>\n",
       "    </tr>\n",
       "    <tr>\n",
       "      <th>88</th>\n",
       "      <td>[300, 150, 70]</td>\n",
       "      <td>sigmoid</td>\n",
       "      <td>xavier</td>\n",
       "      <td>0.000000</td>\n",
       "      <td>False</td>\n",
       "      <td>NaN</td>\n",
       "      <td>True</td>\n",
       "      <td>10000</td>\n",
       "      <td>256</td>\n",
       "      <td>0.01</td>\n",
       "      <td>SGD</td>\n",
       "      <td>0.864433</td>\n",
       "      <td>0.8388</td>\n",
       "      <td>182.931918</td>\n",
       "    </tr>\n",
       "    <tr>\n",
       "      <th>89</th>\n",
       "      <td>[128, 32]</td>\n",
       "      <td>elu</td>\n",
       "      <td>he</td>\n",
       "      <td>0.000000</td>\n",
       "      <td>True</td>\n",
       "      <td>0.50</td>\n",
       "      <td>False</td>\n",
       "      <td>10000</td>\n",
       "      <td>512</td>\n",
       "      <td>0.01</td>\n",
       "      <td>Momentum</td>\n",
       "      <td>0.849437</td>\n",
       "      <td>0.8335</td>\n",
       "      <td>34.266119</td>\n",
       "    </tr>\n",
       "    <tr>\n",
       "      <th>90</th>\n",
       "      <td>[200, 100, 50]</td>\n",
       "      <td>sigmoid</td>\n",
       "      <td>xavier</td>\n",
       "      <td>0.000000</td>\n",
       "      <td>False</td>\n",
       "      <td>NaN</td>\n",
       "      <td>True</td>\n",
       "      <td>10000</td>\n",
       "      <td>256</td>\n",
       "      <td>0.01</td>\n",
       "      <td>Adam</td>\n",
       "      <td>0.745667</td>\n",
       "      <td>0.7271</td>\n",
       "      <td>162.076558</td>\n",
       "    </tr>\n",
       "    <tr>\n",
       "      <th>91</th>\n",
       "      <td>[128, 32]</td>\n",
       "      <td>elu</td>\n",
       "      <td>he</td>\n",
       "      <td>0.000000</td>\n",
       "      <td>True</td>\n",
       "      <td>0.50</td>\n",
       "      <td>False</td>\n",
       "      <td>10000</td>\n",
       "      <td>512</td>\n",
       "      <td>0.01</td>\n",
       "      <td>Momentum</td>\n",
       "      <td>0.653229</td>\n",
       "      <td>0.6455</td>\n",
       "      <td>5.206525</td>\n",
       "    </tr>\n",
       "  </tbody>\n",
       "</table>\n",
       "<p>92 rows × 14 columns</p>\n",
       "</div>"
      ],
      "text/plain": [
       "   hidden_size_list activation weight_init_std  weight_decay_lambda  \\\n",
       "0   [512, 256, 128]   selu_tmp          xavier             0.000002   \n",
       "1        [256, 128]   selu_tmp          xavier             0.000000   \n",
       "2   [512, 256, 128]        elu              he             0.000000   \n",
       "3         [256, 64]   selu_tmp          xavier             0.000000   \n",
       "4         [256, 32]   selu_tmp          xavier             0.000000   \n",
       "..              ...        ...             ...                  ...   \n",
       "87        [128, 32]        elu              he             0.000000   \n",
       "88   [300, 150, 70]    sigmoid          xavier             0.000000   \n",
       "89        [128, 32]        elu              he             0.000000   \n",
       "90   [200, 100, 50]    sigmoid          xavier             0.000000   \n",
       "91        [128, 32]        elu              he             0.000000   \n",
       "\n",
       "    use_dropout  dropout_ratio  use_batchnorm  iters_num  batch_size  \\\n",
       "0          True           0.30          False      10000         512   \n",
       "1          True           0.25          False      10000         512   \n",
       "2         False            NaN           True      10000         512   \n",
       "3          True           0.25          False      10000         512   \n",
       "4          True           0.25          False      10000         512   \n",
       "..          ...            ...            ...        ...         ...   \n",
       "87         True           0.50          False      10000         512   \n",
       "88        False            NaN           True      10000         256   \n",
       "89         True           0.50          False      10000         512   \n",
       "90        False            NaN           True      10000         256   \n",
       "91         True           0.50          False      10000         512   \n",
       "\n",
       "    learning_rate optimizer  train_acc  test_acc        time  \n",
       "0            0.01  Momentum   0.980167    0.9062  824.248010  \n",
       "1            0.01  Momentum   0.978617    0.9057  346.187427  \n",
       "2            0.01     Nadam   1.000000    0.9038  949.484395  \n",
       "3            0.01  Momentum   0.974417    0.9030  340.173420  \n",
       "4            0.01  Momentum   0.970800    0.9025  340.128564  \n",
       "..            ...       ...        ...       ...         ...  \n",
       "87           0.01  Momentum   0.853458    0.8415   41.790797  \n",
       "88           0.01       SGD   0.864433    0.8388  182.931918  \n",
       "89           0.01  Momentum   0.849437    0.8335   34.266119  \n",
       "90           0.01      Adam   0.745667    0.7271  162.076558  \n",
       "91           0.01  Momentum   0.653229    0.6455    5.206525  \n",
       "\n",
       "[92 rows x 14 columns]"
      ]
     },
     "execution_count": 34,
     "metadata": {},
     "output_type": "execute_result"
    }
   ],
   "source": [
    "import pandas as pd\n",
    "\n",
    "pd.read_excel('./total_result.xlsx', index_col=0).reset_index(drop=True)"
   ]
  },
  {
   "cell_type": "markdown",
   "metadata": {},
   "source": [
    "# Experiment "
   ]
  },
  {
   "cell_type": "markdown",
   "metadata": {},
   "source": [
    "## DataFrame Init"
   ]
  },
  {
   "cell_type": "code",
   "execution_count": 7,
   "metadata": {},
   "outputs": [],
   "source": [
    "result = pd.DataFrame(columns=['hidden_size_list', 'activation', 'weight_init_std', 'weight_decay_lambda', \n",
    "                                'use_dropout', 'dropout_ratio', 'use_batchnorm', 'iters_num', 'batch_size', \n",
    "                                'learning_rate', 'optimizer', 'train_acc', 'test_acc', 'time'])"
   ]
  },
  {
   "cell_type": "code",
   "execution_count": 4,
   "metadata": {},
   "outputs": [],
   "source": [
    "import os\n",
    "\n",
    "os.getcwd()\n",
    "\n",
    "os.chdir('..')"
   ]
  },
  {
   "cell_type": "code",
   "execution_count": 5,
   "metadata": {},
   "outputs": [
    {
     "data": {
      "image/png": "[encoded data removed]",
      "text/plain": [
       "<Figure size 432x288 with 1 Axes>"
      ]
     },
     "metadata": {
      "needs_background": "light"
     },
     "output_type": "display_data"
    }
   ],
   "source": [
    "import numpy as np\n",
    "import matplotlib.pyplot as plt\n",
    "from common.scheduling import one_cycle_lr_schedule\n",
    "\n",
    "# Define parameters\n",
    "total_iterations = 10000\n",
    "max_lr = 0.2\n",
    "warmup_fraction = 0.1\n",
    "\n",
    "# Generate learning rates for each iteration\n",
    "learning_rates = [one_cycle_lr_schedule(iteration, max_lr, total_iterations, warmup_fraction) for iteration in range(total_iterations)]\n",
    "\n",
    "# Plot the learning rate schedule\n",
    "plt.plot(range(total_iterations), learning_rates)\n",
    "plt.title('One-Cycle Learning Rate Schedule')\n",
    "plt.xlabel('Iteration')\n",
    "plt.ylabel('Learning Rate')\n",
    "plt.show()\n"
   ]
  },
  {
   "cell_type": "markdown",
   "metadata": {},
   "source": [
    "## Run model"
   ]
  },
  {
   "cell_type": "code",
   "execution_count": 11,
   "metadata": {},
   "outputs": [
    {
     "name": "stderr",
     "output_type": "stream",
     "text": [
      "Learning progress:   0%|            | 4/10000 [00:01<39:54,  4.17it/s]"
     ]
    },
    {
     "name": "stdout",
     "output_type": "stream",
     "text": [
      "train acc, test acc | 0.156, 0.1534\n"
     ]
    },
    {
     "name": "stderr",
     "output_type": "stream",
     "text": [
      "Learning progress:  19%|=        | 1882/10000 [01:05<11:02, 12.25it/s]"
     ]
    },
    {
     "name": "stdout",
     "output_type": "stream",
     "text": [
      "train acc, test acc | 0.90815, 0.8762\n"
     ]
    },
    {
     "name": "stderr",
     "output_type": "stream",
     "text": [
      "Learning progress:  38%|===      | 3755/10000 [02:08<08:53, 11.72it/s]"
     ]
    },
    {
     "name": "stdout",
     "output_type": "stream",
     "text": [
      "train acc, test acc | 0.9340166666666667, 0.8884\n"
     ]
    },
    {
     "name": "stderr",
     "output_type": "stream",
     "text": [
      "Learning progress:  56%|=====    | 5630/10000 [03:11<06:56, 10.49it/s]"
     ]
    },
    {
     "name": "stdout",
     "output_type": "stream",
     "text": [
      "train acc, test acc | 0.9541833333333334, 0.8954\n"
     ]
    },
    {
     "name": "stderr",
     "output_type": "stream",
     "text": [
      "Learning progress:  75%|======   | 7504/10000 [04:13<05:05,  8.18it/s]"
     ]
    },
    {
     "name": "stdout",
     "output_type": "stream",
     "text": [
      "train acc, test acc | 0.969, 0.902\n"
     ]
    },
    {
     "name": "stderr",
     "output_type": "stream",
     "text": [
      "Learning progress:  94%|======== | 9378/10000 [05:18<01:18,  7.91it/s]"
     ]
    },
    {
     "name": "stdout",
     "output_type": "stream",
     "text": [
      "train acc, test acc | 0.9744833333333334, 0.9046\n"
     ]
    },
    {
     "name": "stderr",
     "output_type": "stream",
     "text": [
      "Learning progress: 100%|========| 10000/10000 [05:39<00:00, 29.49it/s]\n"
     ]
    },
    {
     "data": {
      "image/png": "[encoded data removed]",
      "text/plain": [
       "<Figure size 432x288 with 1 Axes>"
      ]
     },
     "metadata": {
      "needs_background": "light"
     },
     "output_type": "display_data"
    }
   ],
   "source": [
    "# seed 설정\n",
    "np.random.seed(42)\n",
    "\n",
    "# 데이터 읽기\n",
    "x_train, t_train = load_mnist(path='fashion_dataset/', kind='train', normalize=True, one_hot_label=True)\n",
    "x_test, t_test = load_mnist(path='fashion_dataset/', kind='t10k', normalize=True, one_hot_label=True)\n",
    "\n",
    "network = MultiLayerNetExtend(input_size=784, hidden_size_list=[256, 64], output_size=10, activation='selu', weight_init_std='selu', \n",
    "                              use_batchnorm=False, use_dropout=True, dropout_ratio=0.25, weight_decay_lambda=2.108559297476214e-06)\n",
    "\n",
    "# 하이퍼파라미터\n",
    "iters_num = 10000  # 반복 횟수를 적절히 설정한다.\n",
    "train_size = x_train.shape[0]\n",
    "batch_size = 512   # 미니배치 크기\n",
    "learning_rate = 0.2\n",
    "\n",
    "train_loss_list = []\n",
    "train_acc_list = []\n",
    "test_acc_list = []\n",
    "\n",
    "# 1에폭당 반복 수\n",
    "iter_per_epoch = max(train_size / batch_size, 1)\n",
    "\n",
    "optimizer = Momentum(lr=learning_rate)\n",
    "\n",
    "start_time = time.time()\n",
    "\n",
    "for i in tqdm(range(iters_num), desc='Learning progress', ncols=70, ascii=' =', leave=True):\n",
    "    # 미니배치 획득\n",
    "    batch_mask = np.random.choice(train_size, batch_size)\n",
    "    x_batch, t_batch = x_train[batch_mask], t_train[batch_mask]\n",
    "    \n",
    "    # 기울기 계산\n",
    "    grad = network.gradient(x_batch, t_batch)\n",
    "    \n",
    "    lr = one_cycle_lr_schedule(i, max_lr=learning_rate, total_iterations=iters_num)\n",
    "    optimizer.lr = lr\n",
    "    optimizer.update(network.params, grad)\n",
    "\n",
    "    # 학습 경과 기록\n",
    "    loss = network.loss(x_batch, t_batch)\n",
    "    train_loss_list.append(loss)\n",
    "    \n",
    "    # 1에폭당 정확도 계산\n",
    "    if i % iter_per_epoch == 0:\n",
    "        train_acc = network.accuracy(x_train, t_train)\n",
    "        test_acc = network.accuracy(x_test, t_test)\n",
    "        train_acc_list.append(train_acc)\n",
    "        test_acc_list.append(test_acc)\n",
    "\n",
    "        print(f\"train acc, test acc | {train_acc}, {test_acc}\")\n",
    "\n",
    "end_time = time.time()\n",
    "training_time = end_time - start_time\n",
    "\n",
    "# Assuming network is an instance of the MultiLayerNetExtend class\n",
    "network_info = {\n",
    "    'hidden_size_list': network.hidden_size_list,\n",
    "    'activation': network.layers['Activation_function1'].__class__.__name__.lower(),\n",
    "    'weight_init_std': 'he' if network.layers['Activation_function1'].__class__.__name__.lower() in ('relu', 'elu') else 'xavier',\n",
    "    'weight_decay_lambda': network.weight_decay_lambda,\n",
    "    'use_dropout': network.use_dropout,\n",
    "    'dropout_ratio': network.layers['Dropout1'].dropout_ratio if network.use_dropout else None,\n",
    "    'use_batchnorm': network.use_batchnorm,\n",
    "    'iters_num': iters_num,\n",
    "    'batch_size': batch_size,\n",
    "    'learning_rate': learning_rate,\n",
    "    'optimizer': optimizer.__class__.__name__,\n",
    "    'train_acc': network.accuracy(x_train, t_train),\n",
    "    'test_acc': network.accuracy(x_test, t_test),\n",
    "    'time': training_time \n",
    "}\n",
    "\n",
    "result = pd.concat([result, pd.DataFrame([network_info])])\n",
    "\n",
    "# 그래프 그리기\n",
    "x = np.arange(len(train_acc_list))\n",
    "plt.plot(x, train_acc_list, label='train acc')\n",
    "plt.plot(x, test_acc_list, label='test acc', linestyle='--')\n",
    "plt.xlabel(\"epochs\")\n",
    "plt.ylabel(\"accuracy\")\n",
    "plt.ylim(0, 1.0)\n",
    "plt.legend(loc='lower right')\n",
    "plt.show()"
   ]
  },
  {
   "cell_type": "markdown",
   "metadata": {},
   "source": [
    "## Hyperparameter tuning"
   ]
  },
  {
   "cell_type": "code",
   "execution_count": null,
   "metadata": {},
   "outputs": [
    {
     "name": "stderr",
     "output_type": "stream",
     "text": [
      "Learning progress: 100%|==========| 1000/1000 [01:43<00:00,  9.65it/s]\n"
     ]
    },
    {
     "name": "stdout",
     "output_type": "stream",
     "text": [
      "(train acc: 0.928375, valid acc: 0.8878333333333334) | weight decay: 6.020991903738259e-08\n"
     ]
    },
    {
     "name": "stderr",
     "output_type": "stream",
     "text": [
      "Learning progress: 100%|==========| 1000/1000 [01:52<00:00,  8.91it/s]\n"
     ]
    },
    {
     "name": "stdout",
     "output_type": "stream",
     "text": [
      "(train acc: 0.9253125, valid acc: 0.8860833333333333) | weight decay: 2.994715876079184e-06\n"
     ]
    },
    {
     "name": "stderr",
     "output_type": "stream",
     "text": [
      "Learning progress: 100%|==========| 1000/1000 [01:50<00:00,  9.06it/s]\n"
     ]
    },
    {
     "name": "stdout",
     "output_type": "stream",
     "text": [
      "(train acc: 0.9074166666666666, valid acc: 0.87625) | weight decay: 7.855914588019412e-06\n"
     ]
    },
    {
     "name": "stderr",
     "output_type": "stream",
     "text": [
      "Learning progress: 100%|==========| 1000/1000 [01:56<00:00,  8.61it/s]\n"
     ]
    },
    {
     "name": "stdout",
     "output_type": "stream",
     "text": [
      "(train acc: 0.9305208333333334, valid acc: 0.8918333333333334) | weight decay: 5.934726196444554e-07\n"
     ]
    },
    {
     "name": "stderr",
     "output_type": "stream",
     "text": [
      "Learning progress: 100%|==========| 1000/1000 [01:52<00:00,  8.88it/s]\n"
     ]
    },
    {
     "name": "stdout",
     "output_type": "stream",
     "text": [
      "(train acc: 0.9285416666666667, valid acc: 0.8868333333333334) | weight decay: 2.2167598465839503e-07\n"
     ]
    },
    {
     "name": "stderr",
     "output_type": "stream",
     "text": [
      "Learning progress: 100%|==========| 1000/1000 [01:54<00:00,  8.70it/s]\n"
     ]
    },
    {
     "name": "stdout",
     "output_type": "stream",
     "text": [
      "(train acc: 0.9209166666666667, valid acc: 0.881) | weight decay: 4.45563082275952e-08\n"
     ]
    },
    {
     "name": "stderr",
     "output_type": "stream",
     "text": [
      "Learning progress: 100%|==========| 1000/1000 [01:27<00:00, 11.47it/s]\n"
     ]
    },
    {
     "name": "stdout",
     "output_type": "stream",
     "text": [
      "(train acc: 0.9312291666666667, valid acc: 0.8920833333333333) | weight decay: 2.008200346026684e-07\n"
     ]
    },
    {
     "name": "stderr",
     "output_type": "stream",
     "text": [
      "Learning progress: 100%|==========| 1000/1000 [01:30<00:00, 11.01it/s]\n"
     ]
    },
    {
     "name": "stdout",
     "output_type": "stream",
     "text": [
      "(train acc: 0.9326875, valid acc: 0.8911666666666667) | weight decay: 2.007712765963896e-07\n"
     ]
    },
    {
     "name": "stderr",
     "output_type": "stream",
     "text": [
      "Learning progress: 100%|==========| 1000/1000 [01:55<00:00,  8.67it/s]\n"
     ]
    },
    {
     "name": "stdout",
     "output_type": "stream",
     "text": [
      "(train acc: 0.9197708333333333, valid acc: 0.88375) | weight decay: 1.393546942970559e-07\n"
     ]
    },
    {
     "name": "stderr",
     "output_type": "stream",
     "text": [
      "Learning progress: 100%|==========| 1000/1000 [01:50<00:00,  9.01it/s]\n"
     ]
    },
    {
     "name": "stdout",
     "output_type": "stream",
     "text": [
      "(train acc: 0.9257083333333334, valid acc: 0.8874166666666666) | weight decay: 2.6139565619750825e-07\n",
      "=========== Hyper-Parameter Optimization Result ===========\n",
      "Best-1(val acc:0.8920833333333333) | weight decay: 2.008200346026684e-07\n",
      "Best-2(val acc:0.8918333333333334) | weight decay: 5.934726196444554e-07\n",
      "Best-3(val acc:0.8911666666666667) | weight decay: 2.007712765963896e-07\n",
      "Best-4(val acc:0.8878333333333334) | weight decay: 6.020991903738259e-08\n",
      "Best-5(val acc:0.8874166666666666) | weight decay: 2.6139565619750825e-07\n",
      "Best-6(val acc:0.8868333333333334) | weight decay: 2.2167598465839503e-07\n",
      "Best-7(val acc:0.8860833333333333) | weight decay: 2.994715876079184e-06\n",
      "Best-8(val acc:0.88375) | weight decay: 1.393546942970559e-07\n",
      "Best-9(val acc:0.881) | weight decay: 4.45563082275952e-08\n",
      "Best-10(val acc:0.87625) | weight decay: 7.855914588019412e-06\n"
     ]
    },
    {
     "data": {
      "image/png": "[encoded data removed]",
      "text/plain": [
       "<Figure size 432x288 with 10 Axes>"
      ]
     },
     "metadata": {
      "needs_background": "light"
     },
     "output_type": "display_data"
    }
   ],
   "source": [
    "from common.util import shuffle_dataset\n",
    "np.random.seed(42)\n",
    "\n",
    "def random_hyperparams():\n",
    "    # dropout_ratio = np.random.uniform(0.2, 0.5)\n",
    "    weight_decay_lambda = 10 ** np.random.uniform(-8, -5)\n",
    "    # return dropout_ratio, weight_decay_lambda\n",
    "    return weight_decay_lambda\n",
    "\n",
    "# def initialize_network(dropout_ratio, weight_decay_lambda):\n",
    "def initialize_network(weight_decay_lambda):\n",
    "    return MultiLayerNetExtend(\n",
    "        input_size=784, hidden_size_list=[256, 32], output_size=10,\n",
    "        activation='elu', weight_init_std='elu',\n",
    "        use_batchnorm=True, use_dropout=False,weight_decay_lambda=weight_decay_lambda\n",
    "    )\n",
    "\n",
    "def train_network(network, x_train, t_train, x_val, t_val, iters_num=1000, batch_size=512):\n",
    "    optimizer = Nadam(lr=0.01)\n",
    "    iter_per_epoch = max(x_train.shape[0] / batch_size, 1)\n",
    "\n",
    "    train_loss_list = []\n",
    "    train_acc_list = []\n",
    "    valid_acc_list = []\n",
    "\n",
    "    for i in tqdm(range(iters_num), desc='Learning progress', ncols=70, ascii=' =', leave=True):\n",
    "        batch_mask = np.random.choice(len(x_train), batch_size)\n",
    "        x_batch, t_batch = x_train[batch_mask], t_train[batch_mask]\n",
    "\n",
    "        grad = network.gradient(x_batch, t_batch)\n",
    "        lr = one_cycle_lr_schedule(i, max_lr=0.2, total_iterations=iters_num)\n",
    "        optimizer.lr = lr\n",
    "        optimizer.update(network.params, grad)\n",
    "\n",
    "        loss = network.loss(x_batch, t_batch)\n",
    "        train_loss_list.append(loss)\n",
    "\n",
    "        if i % iter_per_epoch == 0:\n",
    "            train_acc = network.accuracy(x_train, t_train)\n",
    "            valid_acc = network.accuracy(x_val, t_val)\n",
    "            train_acc_list.append(train_acc)\n",
    "            valid_acc_list.append(valid_acc)\n",
    "\n",
    "    return train_acc_list, valid_acc_list\n",
    "\n",
    "def plot_results(results_train, results_val):\n",
    "    print(\"=========== Hyper-Parameter Optimization Result ===========\")\n",
    "    graph_draw_num = 20\n",
    "    col_num = 5\n",
    "    row_num = int(np.ceil(graph_draw_num / col_num))\n",
    "    i = 0\n",
    "\n",
    "    for key, val_acc_list in sorted(results_val.items(), key=lambda x:x[1][-1], reverse=True):\n",
    "        print(\"Best-\" + str(i+1) + \"(val acc:\" + str(val_acc_list[-1]) + \") | \" + key)\n",
    "\n",
    "        plt.subplot(row_num, col_num, i+1)\n",
    "        plt.title(\"Best-\" + str(i+1))\n",
    "        plt.ylim(0.0, 1.0)\n",
    "        if i % 5: plt.yticks([])\n",
    "        plt.xticks([])\n",
    "        x = np.arange(len(val_acc_list))\n",
    "        plt.plot(x, val_acc_list)\n",
    "        plt.plot(x, results_train[key], \"--\")\n",
    "        i += 1\n",
    "\n",
    "        if i >= graph_draw_num:\n",
    "            break\n",
    "\n",
    "    plt.show()\n",
    "\n",
    "# 데이터 로드 및 분할\n",
    "x_train, t_train = load_mnist(path='fashion_dataset/', kind='train', normalize=True, one_hot_label=True)\n",
    "validation_rate = 0.20\n",
    "validation_num = int(x_train.shape[0] * validation_rate)\n",
    "x_train, t_train = shuffle_dataset(x_train, t_train)\n",
    "x_val, t_val = x_train[:validation_num], t_train[:validation_num]\n",
    "x_train, t_train = x_train[validation_num:], t_train[validation_num:]\n",
    "\n",
    "# 실험 횟수\n",
    "num_experiments = 10\n",
    "results_val = {}\n",
    "results_train = {}\n",
    "\n",
    "for _ in range(num_experiments):\n",
    "    '''dropout_ratio, weight_decay_lambda = random_hyperparams()\n",
    "    network = initialize_network(dropout_ratio, weight_decay_lambda)'''\n",
    "    weight_decay_lambda = random_hyperparams()\n",
    "    network = initialize_network(weight_decay_lambda)\n",
    "    \n",
    "    train_acc_list, valid_acc_list = train_network(network, x_train, t_train, x_val, t_val)\n",
    "    \n",
    "    # key = f\"weight decay: {str(weight_decay_lambda)}, dropout_ratio: {str(dropout_ratio)}\"\n",
    "    key = f\"weight decay: {str(weight_decay_lambda)}\"\n",
    "    \n",
    "    results_val[key] = valid_acc_list\n",
    "    results_train[key] = train_acc_list\n",
    "\n",
    "    print(f'(train acc: {train_acc_list[-1]}, valid acc: {valid_acc_list[-1]}) | {key}')\n",
    "\n",
    "plot_results(results_train, results_val)\n"
   ]
  },
  {
   "cell_type": "code",
   "execution_count": 22,
   "metadata": {},
   "outputs": [
    {
     "data": {
      "text/html": [
       "<div>\n",
       "<style scoped>\n",
       "    .dataframe tbody tr th:only-of-type {\n",
       "        vertical-align: middle;\n",
       "    }\n",
       "\n",
       "    .dataframe tbody tr th {\n",
       "        vertical-align: top;\n",
       "    }\n",
       "\n",
       "    .dataframe thead th {\n",
       "        text-align: right;\n",
       "    }\n",
       "</style>\n",
       "<table border=\"1\" class=\"dataframe\">\n",
       "  <thead>\n",
       "    <tr style=\"text-align: right;\">\n",
       "      <th></th>\n",
       "      <th>hidden_size_list</th>\n",
       "      <th>activation</th>\n",
       "      <th>weight_init_std</th>\n",
       "      <th>weight_decay_lambda</th>\n",
       "      <th>use_dropout</th>\n",
       "      <th>dropout_ratio</th>\n",
       "      <th>use_batchnorm</th>\n",
       "      <th>iters_num</th>\n",
       "      <th>batch_size</th>\n",
       "      <th>learning_rate</th>\n",
       "      <th>optimizer</th>\n",
       "      <th>train_acc</th>\n",
       "      <th>test_acc</th>\n",
       "      <th>time</th>\n",
       "    </tr>\n",
       "  </thead>\n",
       "  <tbody>\n",
       "    <tr>\n",
       "      <th>0</th>\n",
       "      <td>[256, 64]</td>\n",
       "      <td>selu_tmp</td>\n",
       "      <td>xavier</td>\n",
       "      <td>0.000002</td>\n",
       "      <td>True</td>\n",
       "      <td>0.25</td>\n",
       "      <td>False</td>\n",
       "      <td>10000</td>\n",
       "      <td>512</td>\n",
       "      <td>0.2</td>\n",
       "      <td>Momentum</td>\n",
       "      <td>0.974467</td>\n",
       "      <td>0.9045</td>\n",
       "      <td>349.790528</td>\n",
       "    </tr>\n",
       "  </tbody>\n",
       "</table>\n",
       "</div>"
      ],
      "text/plain": [
       "  hidden_size_list activation weight_init_std  weight_decay_lambda  \\\n",
       "0        [256, 64]   selu_tmp          xavier             0.000002   \n",
       "\n",
       "  use_dropout  dropout_ratio use_batchnorm iters_num batch_size  \\\n",
       "0        True           0.25         False     10000        512   \n",
       "\n",
       "   learning_rate optimizer  train_acc  test_acc        time  \n",
       "0            0.2  Momentum   0.974467    0.9045  349.790528  "
      ]
     },
     "execution_count": 22,
     "metadata": {},
     "output_type": "execute_result"
    }
   ],
   "source": [
    "result"
   ]
  },
  {
   "cell_type": "markdown",
   "metadata": {},
   "source": [
    "# Test"
   ]
  },
  {
   "cell_type": "code",
   "execution_count": 13,
   "metadata": {},
   "outputs": [
    {
     "data": {
      "text/plain": [
       "1.0"
      ]
     },
     "execution_count": 13,
     "metadata": {},
     "output_type": "execute_result"
    }
   ],
   "source": [
    "x_comp = np.load('./Project/test file/x_test.npy')\n",
    "t_comp = np.load('./Project/test file/t_test.npy')\n",
    "\n",
    "x_comp = x_comp.astype(np.float32)\n",
    "x_comp = (x_comp - x_comp.mean()) / x_comp.std()\n",
    "\n",
    "network.accuracy(x_comp, t_comp)"
   ]
  },
  {
   "cell_type": "code",
   "execution_count": 14,
   "metadata": {},
   "outputs": [
    {
     "name": "stderr",
     "output_type": "stream",
     "text": [
      "Using TensorFlow backend.\n"
     ]
    },
    {
     "data": {
      "text/plain": [
       "0.8019"
      ]
     },
     "execution_count": 14,
     "metadata": {},
     "output_type": "execute_result"
    }
   ],
   "source": [
    "from keras.datasets import fashion_mnist\n",
    "\n",
    "(x_train, t_train), (x_test, t_test) = fashion_mnist.load_data()\n",
    "\n",
    "x_test = x_test.astype(np.float32).reshape(x_test.shape[0], -1)\n",
    "x_test = (x_test - x_comp.mean()) / x_test.std()\n",
    "\n",
    "network.accuracy(x_test, t_test)"
   ]
  },
  {
   "cell_type": "markdown",
   "metadata": {},
   "source": [
    "# Save Model"
   ]
  },
  {
   "cell_type": "code",
   "execution_count": 15,
   "metadata": {},
   "outputs": [],
   "source": [
    "import pickle\n",
    "\n",
    "with open('./Project/final_model.pkl', 'wb') as f:\n",
    "    pickle.dump(network, f)"
   ]
  }
 ],
 "metadata": {
  "kernelspec": {
   "display_name": "myenv",
   "language": "python",
   "name": "myenv"
  },
  "language_info": {
   "codemirror_mode": {
    "name": "ipython",
    "version": 3
   },
   "file_extension": ".py",
   "mimetype": "text/x-python",
   "name": "python",
   "nbconvert_exporter": "python",
   "pygments_lexer": "ipython3",
   "version": "3.8.13"
  }
 },
 "nbformat": 4,
 "nbformat_minor": 2
}
