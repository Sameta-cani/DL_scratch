{
 "cells": [
  {
   "cell_type": "markdown",
   "metadata": {},
   "source": [
    "# Import"
   ]
  },
  {
   "cell_type": "code",
   "execution_count": 1,
   "metadata": {},
   "outputs": [
    {
     "name": "stderr",
     "output_type": "stream",
     "text": [
      "Using TensorFlow backend.\n"
     ]
    }
   ],
   "source": [
    "from keras.datasets import fashion_mnist\n",
    "from sklearn.metrics import accuracy_score, classification_report\n",
    "\n",
    "import numpy as np\n",
    "import matplotlib.pyplot as plt\n",
    "\n",
    "import pickle\n",
    "import os\n",
    "os.chdir('..')\n",
    "\n",
    "from common.functions import softmax\n",
    "from common.util import plot_image, plot_value_array, plot_image_grid"
   ]
  },
  {
   "cell_type": "markdown",
   "metadata": {},
   "source": [
    "# Load model"
   ]
  },
  {
   "cell_type": "code",
   "execution_count": 2,
   "metadata": {},
   "outputs": [],
   "source": [
    "with open('./Project/final_model.pkl', 'rb') as f:\n",
    "    model = pickle.load(f)"
   ]
  },
  {
   "cell_type": "markdown",
   "metadata": {},
   "source": [
    "# Load data"
   ]
  },
  {
   "cell_type": "markdown",
   "metadata": {},
   "source": [
    ".npy file이 주어지면, Project/test file에 넣어두기"
   ]
  },
  {
   "cell_type": "markdown",
   "metadata": {},
   "source": [
    "## Test file"
   ]
  },
  {
   "cell_type": "code",
   "execution_count": 3,
   "metadata": {},
   "outputs": [
    {
     "data": {
      "text/plain": [
       "0.86"
      ]
     },
     "execution_count": 3,
     "metadata": {},
     "output_type": "execute_result"
    }
   ],
   "source": [
    "x_comp = np.load('./Project/test file/testdata1/x_test.npy')\n",
    "t_comp = np.load('./Project/test file/testdata1/t_test.npy')\n",
    "\n",
    "x_comp = x_comp.astype(np.float32)\n",
    "x_comp = (x_comp - x_comp.mean()) / x_comp.std()\n",
    "\n",
    "model.accuracy(x_comp, t_comp)"
   ]
  },
  {
   "cell_type": "code",
   "execution_count": 4,
   "metadata": {},
   "outputs": [
    {
     "data": {
      "text/plain": [
       "0.9"
      ]
     },
     "execution_count": 4,
     "metadata": {},
     "output_type": "execute_result"
    }
   ],
   "source": [
    "x_comp = np.load('./Project/test file/testdata2/x_test.npy')\n",
    "t_comp = np.load('./Project/test file/testdata2/t_test.npy')\n",
    "\n",
    "x_comp = x_comp.astype(np.float32)\n",
    "x_comp = (x_comp - x_comp.mean()) / x_comp.std()\n",
    "\n",
    "model.accuracy(x_comp, t_comp)"
   ]
  },
  {
   "cell_type": "markdown",
   "metadata": {},
   "source": [
    "## keras file"
   ]
  },
  {
   "cell_type": "code",
   "execution_count": 5,
   "metadata": {},
   "outputs": [
    {
     "data": {
      "text/plain": [
       "0.8019"
      ]
     },
     "execution_count": 5,
     "metadata": {},
     "output_type": "execute_result"
    }
   ],
   "source": [
    "(x_train, t_train), (x_test, t_test) = fashion_mnist.load_data()\n",
    "\n",
    "x_test = x_test.astype(np.float32).reshape(x_test.shape[0], -1)\n",
    "x_test = (x_test - x_comp.mean()) / x_test.std()\n",
    "\n",
    "model.accuracy(x_test, t_test)"
   ]
  },
  {
   "cell_type": "code",
   "execution_count": 6,
   "metadata": {},
   "outputs": [
    {
     "data": {
      "text/plain": [
       "array([9, 2, 1, ..., 8, 1, 8], dtype=int64)"
      ]
     },
     "execution_count": 6,
     "metadata": {},
     "output_type": "execute_result"
    }
   ],
   "source": [
    "x_pred = model.predict(x_test).argmax(axis=1)\n",
    "x_pred"
   ]
  },
  {
   "cell_type": "code",
   "execution_count": 7,
   "metadata": {},
   "outputs": [
    {
     "name": "stdout",
     "output_type": "stream",
     "text": [
      "Accuracy: 0.8019\n",
      "CR:               precision    recall  f1-score   support\n",
      "\n",
      "           0       0.90      0.70      0.79      1293\n",
      "           1       0.98      0.96      0.97      1015\n",
      "           2       0.55      0.83      0.66       658\n",
      "           3       0.69      0.97      0.81       713\n",
      "           4       0.94      0.54      0.69      1739\n",
      "           5       0.76      1.00      0.86       758\n",
      "           6       0.40      0.70      0.51       568\n",
      "           7       0.84      0.93      0.88       906\n",
      "           8       0.98      0.85      0.91      1144\n",
      "           9       0.98      0.82      0.89      1206\n",
      "\n",
      "    accuracy                           0.80     10000\n",
      "   macro avg       0.80      0.83      0.80     10000\n",
      "weighted avg       0.85      0.80      0.81     10000\n",
      "\n"
     ]
    }
   ],
   "source": [
    "print(\"Accuracy:\", accuracy_score(x_pred, t_test))\n",
    "print(\"CR:\", classification_report(x_pred, t_test))"
   ]
  },
  {
   "cell_type": "code",
   "execution_count": 8,
   "metadata": {},
   "outputs": [
    {
     "data": {
      "text/plain": [
       "{'W1': array([[ 8.02253612e-02,  2.54916435e-02,  1.26705712e-01, ...,\n",
       "          7.92664277e-02,  4.40197920e-02, -5.99399902e-02],\n",
       "        [ 1.06424878e-01,  9.87479753e-03,  1.19259488e-01, ...,\n",
       "          1.39770211e-02,  1.05858173e-01, -4.52843021e-02],\n",
       "        [ 5.03756702e-02,  2.27142431e-02,  8.59692660e-02, ...,\n",
       "          2.09124723e-02,  9.02510807e-02,  1.53656721e-02],\n",
       "        ...,\n",
       "        [-5.11516975e-02, -3.11239806e-02,  1.16972284e-01, ...,\n",
       "         -8.03849762e-02,  1.28882783e-01, -3.56281227e-01],\n",
       "        [-2.32797309e-02, -4.44478238e-05,  7.72644003e-02, ...,\n",
       "         -4.87912805e-02,  1.31267604e-01, -4.10157363e-02],\n",
       "        [-6.95745107e-03,  1.03155806e-02,  1.39067688e-01, ...,\n",
       "         -2.43764321e-02,  1.14153041e-01, -1.79368237e-02]]),\n",
       " 'b1': array([-7.58091350e-02, -3.80231766e-02, -1.31287086e-01, -1.22671150e-01,\n",
       "         1.54581961e-01, -1.05913939e-01, -7.34857581e-02, -1.03287032e-01,\n",
       "        -1.57251783e-02, -9.45322814e-02,  7.92589351e-02, -1.80021231e-01,\n",
       "        -1.35437172e-01, -9.73441267e-02,  1.37788995e-02, -9.46532079e-02,\n",
       "        -6.58669322e-02, -2.06260696e-02, -8.48849782e-02,  8.82450311e-02,\n",
       "        -7.72157214e-02, -1.92329868e-01, -1.16564358e-01,  5.92104812e-03,\n",
       "        -1.82291699e-01, -5.18643469e-02, -1.19641411e-01, -1.81734634e-01,\n",
       "         2.34466141e-02,  5.33414245e-02, -1.99104388e-01, -7.98063200e-02,\n",
       "        -7.76344243e-02, -3.62474944e-02,  2.61318760e-02, -1.72047405e-02,\n",
       "         1.84863371e-03, -8.16271121e-02,  1.90128008e-03, -3.72189005e-02,\n",
       "        -2.70081027e-05, -1.79456140e-02,  7.99933370e-03, -5.99216061e-02,\n",
       "        -6.56494298e-02, -1.70050571e-01, -1.18743549e-01, -1.04811777e-01,\n",
       "        -8.67393144e-02, -1.18961947e-01,  2.96594916e-02,  2.54077295e-02,\n",
       "        -1.32423715e-01,  5.02436609e-02,  3.48961579e-02, -8.52043970e-02,\n",
       "        -1.32033057e-01,  5.67316649e-03, -7.81323087e-02, -5.24760680e-02,\n",
       "        -1.69517903e-01, -5.74337175e-02, -5.52435866e-02, -1.53854368e-01,\n",
       "        -1.28326190e-01, -1.97417819e-01, -1.73973905e-01, -9.89182361e-02,\n",
       "        -4.11799967e-02, -1.96633349e-02, -4.54106216e-02, -8.46017140e-02,\n",
       "        -8.83157103e-02, -1.28608810e-01, -9.27731731e-02, -8.12106629e-02,\n",
       "        -9.54201903e-02, -6.93029682e-02, -7.73791261e-02, -6.21653687e-03,\n",
       "         5.53913752e-04, -5.29323135e-02, -6.52537604e-02, -4.62067016e-02,\n",
       "         2.51598152e-02, -8.91870368e-02, -1.43511476e-01, -1.16242769e-02,\n",
       "        -1.54061936e-01, -1.26761758e-01, -1.52735384e-01, -6.39898276e-02,\n",
       "        -1.54360284e-01, -1.82187202e-01, -1.92767500e-01, -1.58770378e-01,\n",
       "        -5.26123960e-02, -8.90585607e-02, -1.08432740e-01, -6.48214039e-03,\n",
       "        -1.37112882e-02, -1.39722773e-01,  4.56648620e-03,  4.63465411e-02,\n",
       "        -5.75004079e-02, -1.05925102e-01, -7.25527541e-02, -1.48725279e-01,\n",
       "        -4.81571202e-02, -1.70676879e-01, -1.67028731e-01, -1.24270488e-01,\n",
       "        -1.41836324e-01, -2.44138628e-02, -1.31284902e-01, -9.63018522e-02,\n",
       "        -1.55885849e-01, -1.32811450e-01,  4.60547276e-02, -1.33694076e-01,\n",
       "        -1.12327319e-01, -1.28620473e-01, -8.30636935e-03, -2.04543348e-01,\n",
       "        -4.60740111e-02, -1.54688453e-01, -2.62253849e-02, -3.63160780e-02,\n",
       "        -2.63195686e-01, -1.63066766e-01, -7.36686521e-02, -1.79654975e-01,\n",
       "         5.97185210e-02, -1.14557891e-01, -8.64219031e-02, -2.29219717e-02,\n",
       "        -1.52381116e-02,  1.03387104e-01,  5.35511950e-02, -1.19705673e-01,\n",
       "        -6.26811150e-03,  1.63537411e-02, -1.17435324e-01, -1.07314692e-01,\n",
       "        -2.13035657e-02, -1.20255519e-01, -4.25550179e-02, -1.09690345e-01,\n",
       "        -1.16272820e-01, -1.12232412e-01,  2.85359687e-02, -1.00168410e-01,\n",
       "        -1.38549820e-01, -8.70815100e-02, -1.10248459e-01,  5.15536601e-02,\n",
       "        -8.70926619e-02, -1.22901084e-02,  1.04984242e-01, -1.48810699e-01,\n",
       "        -1.92879852e-01, -3.00584257e-02, -8.08281765e-02,  1.11023177e-02,\n",
       "        -3.43546093e-02,  4.80700941e-02, -1.67311892e-01, -6.97142771e-03,\n",
       "         6.93756915e-02, -6.67702878e-02, -5.05523807e-02, -9.61354690e-02,\n",
       "        -3.84575048e-02, -1.82071926e-01, -1.13172668e-01, -4.13980111e-02,\n",
       "        -1.70885202e-01, -7.53918064e-02, -4.29803574e-02, -7.32444333e-02,\n",
       "        -8.99198823e-02, -1.09018447e-01, -2.85637096e-02, -1.71521363e-01,\n",
       "        -1.03416253e-01,  1.25675678e-01, -1.15929641e-01, -1.54542214e-01,\n",
       "        -2.56892369e-02, -5.18716607e-02, -4.21596567e-02, -9.39390552e-02,\n",
       "        -5.99306336e-02, -6.76528071e-02, -1.68520715e-01, -2.40764568e-01,\n",
       "        -1.39629272e-01, -2.53026313e-02, -1.15475653e-01, -1.04391525e-01,\n",
       "        -7.76419411e-02, -8.61726673e-03, -1.56323770e-01, -1.03270730e-01,\n",
       "        -2.35867053e-01, -1.11545433e-01, -1.48297830e-02, -8.25180417e-02,\n",
       "        -1.72315021e-03, -1.33109524e-01, -5.21713142e-02, -1.04700270e-01,\n",
       "        -6.34196465e-02,  3.10817779e-02, -6.78163953e-02,  1.28954968e-02,\n",
       "         6.09595879e-02, -1.26550688e-01, -1.47806151e-01, -3.17136229e-03,\n",
       "        -8.12429319e-02,  2.54511223e-02, -1.09980475e-01, -1.73859902e-01,\n",
       "        -9.45880938e-02, -8.65664137e-02, -1.23566659e-01, -2.04647488e-01,\n",
       "         1.17598509e-01, -8.98376764e-02, -6.01967116e-03, -4.76619716e-02,\n",
       "        -1.15339741e-01, -2.94019935e-02, -1.45857089e-01, -2.87393686e-03,\n",
       "        -1.28655449e-01,  1.28323458e-01, -1.23965164e-01, -9.89744429e-02,\n",
       "        -9.31592942e-02, -1.31515706e-01,  1.38935078e-01, -1.49223773e-01,\n",
       "         5.17311446e-02, -1.21075724e-01, -2.93142305e-02, -6.83699057e-02,\n",
       "        -2.04133714e-02, -8.90754824e-02, -8.63955615e-02, -1.64411276e-01,\n",
       "        -1.97288646e-01, -5.34511075e-02, -1.22556396e-01,  5.51611258e-02]),\n",
       " 'W2': array([[-0.1450751 ,  0.37520334,  0.03718333, ...,  0.04460427,\n",
       "          0.0339732 , -0.23028214],\n",
       "        [-0.00373209, -0.27861646,  0.19332778, ..., -0.17831242,\n",
       "          0.00074119, -0.07326874],\n",
       "        [-0.22248152, -0.10299219, -0.23232495, ...,  0.10476067,\n",
       "         -0.36245368,  0.00821686],\n",
       "        ...,\n",
       "        [ 0.08605899,  0.30105719,  0.23550739, ..., -0.21355256,\n",
       "         -0.00308297, -0.1930359 ],\n",
       "        [ 0.199524  , -0.15870417, -0.15634477, ...,  0.1889796 ,\n",
       "         -0.09974783, -0.09831605],\n",
       "        [-0.12626833,  0.10016044,  0.24045646, ..., -0.2126014 ,\n",
       "         -0.02260562,  0.08706544]]),\n",
       " 'b2': array([-0.22676826, -0.49930681, -0.32483548, -0.27853576, -0.38465312,\n",
       "        -0.2871762 , -0.25380161, -0.24521933, -0.21060385, -0.14505341,\n",
       "        -0.55060474, -0.29065751, -0.11871598, -0.14797012, -0.2998317 ,\n",
       "        -0.41263685,  0.08009398, -0.1434623 , -0.39026428, -0.46102916,\n",
       "        -0.56620792, -0.22441933, -0.05155711, -0.40733609, -0.26909155,\n",
       "        -0.19635073, -0.19853006, -0.39085222, -0.30131572, -0.32794664,\n",
       "        -0.28666108, -0.46102296, -0.49330849, -0.18370561, -0.61377382,\n",
       "        -0.62613597, -0.4485349 , -0.38951049, -0.44357546, -0.21760449,\n",
       "        -0.02972424, -0.29693601, -0.17777359, -0.31244538, -0.29057315,\n",
       "        -0.29571594, -0.16970157, -0.25008334, -0.27907023, -0.30938385,\n",
       "        -0.43861748, -0.45841348, -0.39477873, -0.49117765, -0.06419335,\n",
       "        -0.42047577, -0.55030026, -0.0480806 , -0.42758114, -0.42033851,\n",
       "        -0.3680581 , -0.1847661 , -0.21039554, -0.42670885]),\n",
       " 'W3': array([[-2.55679179e-01, -1.23257763e-01, -2.79547684e-01,\n",
       "         -2.52862417e-01, -2.31448149e-01,  4.54691818e-01,\n",
       "         -2.88972142e-01,  3.99202825e-01,  4.12892291e-01,\n",
       "          2.43238441e-01],\n",
       "        [-2.06575196e-01,  3.09027653e-02, -2.05826313e-01,\n",
       "          5.47970480e-03, -1.76436811e-01,  1.98401841e-01,\n",
       "          2.60176775e-02, -5.56203426e-02,  9.68722500e-04,\n",
       "          2.12837506e-01],\n",
       "        [ 1.75359818e-01,  2.64077840e-01, -5.21287974e-02,\n",
       "         -1.55994802e-01, -1.01560190e-01, -1.89276766e-01,\n",
       "          1.76034540e-01, -1.76324864e-01,  1.72139247e-01,\n",
       "          1.67056381e-02],\n",
       "        [ 1.66115535e-01,  1.34870236e-01,  1.64684405e-01,\n",
       "          1.96781547e-01, -1.23937336e-02, -3.03930876e-01,\n",
       "         -1.66173150e-02, -3.21802358e-01, -2.32648850e-01,\n",
       "         -2.20857792e-01],\n",
       "        [ 1.58644890e-02,  1.69313523e-01,  1.37027231e-01,\n",
       "         -9.51392364e-02,  1.66684968e-01, -9.61696533e-02,\n",
       "         -8.97570674e-02,  2.00038510e-01,  1.63299812e-01,\n",
       "         -1.20485668e-01],\n",
       "        [ 1.12839379e-01, -1.71402287e-01, -7.55238195e-02,\n",
       "         -1.45697678e-01, -6.97204505e-02,  1.63760572e-01,\n",
       "          1.49649037e-01, -3.48528713e-01,  2.17445017e-01,\n",
       "         -2.46753166e-01],\n",
       "        [-2.90616204e-01, -1.71662668e-01, -3.01398478e-01,\n",
       "         -2.66114499e-01, -2.76495019e-01,  4.46769155e-01,\n",
       "         -2.87759315e-01,  3.88574275e-01,  4.42817656e-01,\n",
       "          3.96724529e-01],\n",
       "        [ 2.55179967e-01,  9.43559518e-02,  2.12960603e-01,\n",
       "          2.04465021e-01,  4.01661572e-02,  5.22708125e-03,\n",
       "          2.13457615e-02, -2.39905762e-01, -8.78043372e-02,\n",
       "         -2.63147781e-01],\n",
       "        [ 6.67196588e-02, -2.53935941e-01, -4.12398986e-02,\n",
       "          2.03691988e-01,  1.95086668e-01,  6.71757328e-02,\n",
       "          1.48862967e-01, -3.49775848e-01, -1.47766827e-01,\n",
       "         -3.47473339e-01],\n",
       "        [-1.92791496e-01,  3.17397310e-01,  1.89434069e-02,\n",
       "         -1.68766005e-01,  6.08286228e-03,  7.09033113e-02,\n",
       "         -2.00053636e-01, -1.85608722e-02, -4.20914026e-02,\n",
       "         -1.30945248e-01],\n",
       "        [ 4.64294990e-02, -1.26814153e-01,  1.39955576e-01,\n",
       "          3.18067732e-01,  1.87769790e-01, -2.57114250e-01,\n",
       "          3.17183574e-01, -2.95793751e-01, -1.62454001e-02,\n",
       "         -3.56144857e-01],\n",
       "        [ 5.13983263e-02, -1.94811162e-02,  7.64339823e-02,\n",
       "         -1.02524278e-01, -1.55969797e-01,  8.84106525e-02,\n",
       "         -1.47268547e-01,  3.73641404e-02,  1.28279354e-01,\n",
       "          1.64344088e-01],\n",
       "        [ 2.60566445e-01,  9.39825204e-03,  2.41380072e-01,\n",
       "         -1.53252713e-01, -5.65684827e-03, -1.00586787e-01,\n",
       "          2.41781462e-01, -3.57133026e-01,  2.61098109e-01,\n",
       "         -3.26751437e-01],\n",
       "        [ 1.94253974e-01, -5.81747899e-02, -4.77183913e-02,\n",
       "         -1.24884290e-01,  1.20473720e-01,  6.32814901e-02,\n",
       "          1.70127665e-01, -3.26667729e-01, -4.84726139e-02,\n",
       "         -3.26764208e-01],\n",
       "        [-2.45942503e-01, -2.52911949e-01,  9.60035403e-02,\n",
       "         -2.12479064e-01,  7.52697690e-02, -8.74097496e-02,\n",
       "         -1.50199504e-01, -4.22576614e-03,  1.72095090e-01,\n",
       "          6.64061932e-02],\n",
       "        [ 2.22855580e-01, -1.20003995e-01,  2.25149551e-01,\n",
       "         -1.64940419e-01, -2.81053665e-02,  1.20446748e-01,\n",
       "          2.31070379e-01, -6.08692461e-02, -1.64105445e-01,\n",
       "         -1.05278179e-01],\n",
       "        [ 4.20523054e-02,  2.32218233e-02, -1.86447519e-01,\n",
       "          1.10053047e-01, -2.02075656e-01,  2.52539298e-01,\n",
       "         -1.65418094e-01,  2.26554872e-01,  1.49198791e-01,\n",
       "         -1.12343905e-01],\n",
       "        [ 9.47147927e-03, -1.83749327e-01, -7.73124097e-02,\n",
       "          1.17357497e-01,  1.86451800e-01,  2.09806964e-01,\n",
       "          1.46556741e-01,  2.00654079e-01,  2.08765443e-01,\n",
       "         -1.40121571e-01],\n",
       "        [-1.57959939e-01, -1.85353725e-01, -1.38508888e-01,\n",
       "          6.39570651e-02,  8.16474165e-02,  1.71742161e-01,\n",
       "         -1.33840981e-01, -1.07023375e-01, -1.31303913e-01,\n",
       "          2.60979928e-01],\n",
       "        [-1.86861978e-02,  1.82894934e-01, -2.73433555e-01,\n",
       "         -2.33098028e-01, -2.90197056e-01,  3.54547671e-01,\n",
       "         -2.66568305e-01,  4.02152390e-01, -2.22646810e-01,\n",
       "          4.16141120e-01],\n",
       "        [-2.30965873e-01, -1.05838213e-01, -8.05318144e-02,\n",
       "         -9.90534820e-02, -1.66127608e-01,  1.67194614e-01,\n",
       "          3.86065585e-02,  2.45835738e-01, -7.21831978e-02,\n",
       "          3.02821715e-02],\n",
       "        [ 2.74511442e-01, -1.76715899e-01,  2.56578508e-01,\n",
       "         -1.08412263e-01,  1.39264762e-02, -1.15936631e-01,\n",
       "          2.38471971e-01, -2.24637839e-01,  9.59978048e-02,\n",
       "         -2.13826060e-01],\n",
       "        [ 6.87890922e-02, -9.84298367e-02,  1.96453524e-01,\n",
       "         -1.61988359e-02,  1.85332703e-01,  1.86834921e-01,\n",
       "         -4.46021742e-02, -2.66828072e-01,  1.97611565e-01,\n",
       "         -2.02679287e-01],\n",
       "        [ 1.97130084e-02, -1.99833256e-01, -3.50172765e-02,\n",
       "         -8.06325015e-02,  1.73136183e-01, -2.24466798e-01,\n",
       "          1.33111398e-01, -1.85234335e-01,  3.12864817e-01,\n",
       "         -5.50220025e-02],\n",
       "        [-1.63899787e-01, -2.49801565e-01,  1.39043672e-01,\n",
       "         -1.69580918e-01,  1.29529931e-01,  1.75973083e-01,\n",
       "         -1.95719024e-01, -5.26585818e-02, -9.67921434e-02,\n",
       "          2.43315736e-01],\n",
       "        [ 6.72404759e-02, -2.67212860e-01,  1.19471344e-04,\n",
       "         -8.87025836e-02, -1.63350913e-01,  2.52073563e-01,\n",
       "         -1.38816838e-01,  8.19790100e-02, -2.04658701e-01,\n",
       "          2.49061997e-01],\n",
       "        [-2.02548605e-01,  3.50710411e-01,  4.39692515e-02,\n",
       "         -1.92715209e-01, -1.57187355e-01,  3.27742969e-01,\n",
       "         -9.65656426e-02,  1.35307119e-01, -1.37053399e-01,\n",
       "          1.80847977e-01],\n",
       "        [-8.91378867e-02,  2.61203108e-01,  1.54424770e-01,\n",
       "          2.70464002e-01,  2.71672846e-01,  1.23321650e-02,\n",
       "          1.57792124e-01, -3.09928654e-01, -2.68866032e-01,\n",
       "         -2.80626837e-01],\n",
       "        [ 1.23844274e-01,  1.72413170e-01, -1.48425855e-01,\n",
       "          1.33433276e-01, -1.97263088e-01, -1.28484961e-01,\n",
       "          1.11868943e-01, -3.27789601e-01, -1.96489710e-01,\n",
       "          7.25586137e-03],\n",
       "        [-2.59415535e-01,  2.91151961e-02, -1.94267061e-01,\n",
       "          1.42780287e-01, -2.05101148e-01,  4.18628037e-01,\n",
       "         -2.73453153e-01,  3.94957556e-01, -3.64824892e-01,\n",
       "          4.74469794e-01],\n",
       "        [-9.70292276e-02,  2.76216563e-01,  1.71885676e-01,\n",
       "          2.52946225e-01,  2.09027684e-01, -3.17154458e-01,\n",
       "         -2.98341130e-02, -4.52760824e-01,  2.51487456e-01,\n",
       "         -4.50476794e-01],\n",
       "        [-2.44000754e-01, -1.56883406e-01, -2.82686094e-01,\n",
       "         -2.81344054e-01, -2.86748830e-01,  8.87745357e-03,\n",
       "         -2.64771407e-01,  3.20030726e-01,  3.38437183e-01,\n",
       "          3.44258619e-01],\n",
       "        [-1.66248167e-01,  8.47773985e-02, -1.95612702e-01,\n",
       "          6.36284348e-02,  5.89764686e-02,  8.78284381e-03,\n",
       "         -2.05313433e-01, -1.26220680e-01,  1.38314745e-01,\n",
       "          7.24043291e-02],\n",
       "        [-2.56525299e-01,  4.72625178e-02, -2.16780729e-01,\n",
       "         -1.09338120e-02, -1.57821724e-02,  2.09572079e-01,\n",
       "         -2.56130648e-01,  2.12657931e-01,  1.11309586e-01,\n",
       "         -1.23008368e-01],\n",
       "        [ 1.27846449e-01, -2.42184430e-01, -1.93395297e-01,\n",
       "          1.21054314e-01, -1.36933323e-01, -7.87052398e-02,\n",
       "          1.25511045e-01,  1.24048655e-01, -1.02429012e-01,\n",
       "          1.60350452e-01],\n",
       "        [-2.21006328e-01,  1.99319078e-01, -1.44474999e-01,\n",
       "         -8.42196860e-02, -9.85985471e-02, -2.23344669e-01,\n",
       "         -1.99688175e-01,  4.54985408e-01, -2.45600626e-01,\n",
       "          4.57654641e-01],\n",
       "        [ 1.92903368e-01, -4.78145287e-02, -9.58058084e-02,\n",
       "         -1.29082863e-01, -5.47374996e-02,  1.33708076e-01,\n",
       "          1.83995523e-01, -4.79858814e-02, -1.89530578e-01,\n",
       "         -1.70041145e-02],\n",
       "        [ 9.83037131e-04, -1.42721618e-01,  2.97675054e-01,\n",
       "         -4.40846458e-02,  2.79593808e-01,  1.26028901e-01,\n",
       "          2.47869900e-01, -2.62674745e-01, -1.97497035e-01,\n",
       "         -2.76408518e-01],\n",
       "        [-1.68872548e-01,  2.52441705e-02, -2.06252783e-01,\n",
       "         -1.77801377e-01, -1.87033329e-01,  1.09842790e-01,\n",
       "          7.36009626e-03, -8.24155857e-02,  2.04569528e-01,\n",
       "          1.85016505e-01],\n",
       "        [ 1.04913803e-01,  1.38944320e-01,  2.31530202e-02,\n",
       "          1.70884224e-01,  1.86797972e-01, -2.15002934e-01,\n",
       "         -1.14752598e-01, -3.48133949e-01, -7.19656782e-02,\n",
       "         -3.52603325e-01],\n",
       "        [ 3.68996867e-02,  1.76727344e-01, -1.26317268e-02,\n",
       "          1.40246137e-01, -1.76400898e-01,  1.55660845e-01,\n",
       "         -1.46611250e-01, -1.62370507e-01,  9.58094479e-02,\n",
       "          1.64281785e-01],\n",
       "        [ 1.75324292e-01,  1.45562573e-01, -1.48504160e-01,\n",
       "          1.35707669e-01, -1.16502581e-01, -1.97378014e-01,\n",
       "         -8.42172955e-02,  6.76421804e-02,  8.51887250e-02,\n",
       "         -1.39912495e-01],\n",
       "        [ 8.23261423e-02, -8.48454789e-02,  8.59815011e-02,\n",
       "         -1.28292243e-01, -1.35211826e-01,  2.63006078e-01,\n",
       "         -8.00886614e-02,  1.58887634e-02, -9.99968603e-02,\n",
       "          1.62687295e-01],\n",
       "        [ 1.47965806e-01,  2.05728912e-01, -1.65118328e-01,\n",
       "          1.73922249e-01, -1.70711303e-01, -1.89813032e-01,\n",
       "          1.52854428e-01, -8.72737003e-02, -2.58889015e-01,\n",
       "         -1.51204617e-01],\n",
       "        [-4.07208842e-01, -1.41896368e-01, -3.68536511e-01,\n",
       "         -3.69618270e-01, -4.27185352e-01,  5.83259909e-01,\n",
       "         -4.39824586e-01,  5.61976958e-01,  3.57146963e-01,\n",
       "          5.79140064e-01],\n",
       "        [ 1.20786712e-01,  3.23917988e-01,  8.80363829e-02,\n",
       "         -1.84679268e-01,  1.73423840e-01, -2.14573467e-01,\n",
       "          1.02685547e-02, -1.67146285e-01, -9.00841437e-02,\n",
       "         -8.23945783e-02],\n",
       "        [ 4.82982086e-02,  2.60384816e-01,  1.82108294e-01,\n",
       "          2.50143063e-01, -7.42534412e-03,  1.56179067e-01,\n",
       "          1.73593044e-01, -3.51609158e-01,  2.45313392e-01,\n",
       "         -3.66687637e-01],\n",
       "        [-1.54784436e-01,  1.52689077e-01,  7.12713004e-02,\n",
       "         -2.06243212e-01, -9.37787727e-02,  1.18848253e-01,\n",
       "          5.61642287e-02, -2.94353524e-01, -1.09253932e-02,\n",
       "         -3.12259803e-01],\n",
       "        [-9.53720406e-02,  1.12354043e-01, -8.21182210e-02,\n",
       "          2.53454203e-01, -7.72302816e-02,  1.15994085e-01,\n",
       "          7.24076572e-02, -6.58065166e-02,  1.34870195e-01,\n",
       "          1.95014200e-01],\n",
       "        [-3.08028761e-01,  4.06707813e-01, -3.13491124e-01,\n",
       "         -2.80705826e-01, -2.65329927e-01,  3.43451881e-01,\n",
       "         -2.74729123e-01,  3.45132379e-01, -1.22068212e-01,\n",
       "          5.26058367e-02],\n",
       "        [ 2.34181095e-01, -9.62422594e-02,  2.07826717e-01,\n",
       "          1.94572016e-01, -9.39392442e-02, -1.08175891e-01,\n",
       "          2.12605842e-01,  9.03841426e-02, -1.94256987e-01,\n",
       "         -1.03913428e-01],\n",
       "        [-2.36655570e-01, -2.80796153e-01,  3.85033639e-02,\n",
       "          2.22396356e-03, -1.30370459e-01, -1.50018564e-01,\n",
       "         -2.33060582e-01,  5.07945066e-02,  2.20804733e-02,\n",
       "          6.86331649e-02],\n",
       "        [-3.88419835e-01,  4.42955457e-01, -3.71008257e-01,\n",
       "         -3.27976429e-01, -3.78265546e-01,  6.25555051e-01,\n",
       "         -3.52581826e-01,  6.08780414e-01, -3.48123674e-01,\n",
       "          6.28744623e-01],\n",
       "        [-9.66183253e-02,  3.16901875e-03,  1.62057800e-01,\n",
       "         -1.62483072e-01,  2.05053305e-01, -1.61756037e-01,\n",
       "          1.91152431e-01,  7.72140147e-02, -2.54046821e-01,\n",
       "          3.83307445e-02],\n",
       "        [ 6.66508840e-02, -3.35140904e-01, -2.87606591e-01,\n",
       "          4.41142873e-02, -2.26591290e-01,  3.36885404e-03,\n",
       "          2.32512852e-02,  1.98216868e-02, -9.32265748e-03,\n",
       "         -3.51299194e-01],\n",
       "        [-1.42391215e-01,  2.31264873e-01, -2.07083729e-01,\n",
       "         -6.77549758e-02,  3.15263598e-02,  1.21321379e-01,\n",
       "          1.02490825e-02, -1.62826301e-01, -2.17084242e-01,\n",
       "          8.07284326e-02],\n",
       "        [-1.15101786e-01, -1.94104960e-01,  1.45034903e-01,\n",
       "         -1.92252314e-01,  1.55277224e-01, -1.28661927e-01,\n",
       "          1.49594227e-01, -1.43305925e-01, -2.77408723e-01,\n",
       "          1.38880749e-01],\n",
       "        [ 1.95745839e-01, -2.03097973e-01,  1.09009273e-01,\n",
       "         -2.98762681e-02,  2.34278629e-01,  1.91991549e-01,\n",
       "          1.04109018e-01, -3.37678160e-01,  1.89890527e-01,\n",
       "         -3.47283846e-01],\n",
       "        [-4.35986203e-01, -3.16453356e-01, -4.62127583e-01,\n",
       "         -4.37765614e-01, -4.62499291e-01,  1.10060815e+00,\n",
       "         -4.53123745e-01,  1.11514629e+00, -3.67393812e-01,\n",
       "          1.10495971e+00],\n",
       "        [-1.91859486e-01,  1.89161403e-01,  9.78509049e-02,\n",
       "         -1.58909991e-01, -7.53665416e-02, -1.54331224e-01,\n",
       "         -1.40499218e-01,  1.19772260e-01, -2.04836558e-01,\n",
       "          1.62624720e-01],\n",
       "        [-7.37616371e-02, -2.38167578e-01,  2.34567985e-01,\n",
       "          1.80727548e-01,  2.44298589e-01,  1.51796164e-01,\n",
       "          2.34644308e-01,  1.18176039e-01, -3.05982031e-01,\n",
       "         -1.14033439e-01],\n",
       "        [-9.87229965e-02, -3.05239543e-01,  1.52409764e-01,\n",
       "          1.37806758e-01, -1.14697385e-01,  1.77032257e-01,\n",
       "          4.45624562e-02,  1.31697143e-01,  1.98703199e-01,\n",
       "         -9.81841158e-02],\n",
       "        [ 2.50466163e-01,  1.81814093e-01, -5.72338428e-02,\n",
       "          1.87618959e-01, -3.36645705e-02, -1.25025969e-01,\n",
       "         -1.12855726e-02, -2.07311861e-01,  2.73614286e-01,\n",
       "         -2.24133063e-01],\n",
       "        [ 9.59637096e-02, -1.07444493e-01,  1.86455304e-01,\n",
       "          1.86422769e-01, -3.14602510e-02, -3.60298222e-01,\n",
       "          9.85853059e-02,  1.03719811e-01,  1.90787797e-01,\n",
       "         -1.72602306e-01]]),\n",
       " 'b3': array([ 0.57496637, -1.16147668,  0.86219479,  0.05366544,  0.59552375,\n",
       "        -0.29883926,  1.65844353, -0.44065983, -0.49060775, -1.35321035])}"
      ]
     },
     "execution_count": 8,
     "metadata": {},
     "output_type": "execute_result"
    }
   ],
   "source": [
    "model.params"
   ]
  },
  {
   "cell_type": "code",
   "execution_count": 9,
   "metadata": {},
   "outputs": [],
   "source": [
    "pred = model.predict(x_test)\n",
    "pred_proba = softmax(pred)"
   ]
  },
  {
   "cell_type": "code",
   "execution_count": 10,
   "metadata": {},
   "outputs": [],
   "source": [
    "CLASS_NAMES = ['T-shirt/top', 'Trouser', 'Pullover', 'Dress', 'Coat', \n",
    "                   'Sandal', 'Shirt', 'Sneaker', 'Bag', 'Ankle boot']"
   ]
  },
  {
   "cell_type": "code",
   "execution_count": 11,
   "metadata": {},
   "outputs": [
    {
     "data": {
      "image/png": "[encoded data removed]",
      "text/plain": [
       "<Figure size 432x216 with 2 Axes>"
      ]
     },
     "metadata": {},
     "output_type": "display_data"
    }
   ],
   "source": [
    "i = 0\n",
    "plt.figure(figsize=(6, 3))\n",
    "plt.subplot(1, 2, 1)\n",
    "plot_image(i, pred_proba, t_test, x_test, CLASS_NAMES)\n",
    "plt.subplot(1, 2, 2)\n",
    "plot_value_array(i, pred_proba,  t_test)"
   ]
  },
  {
   "cell_type": "code",
   "execution_count": 12,
   "metadata": {},
   "outputs": [
    {
     "data": {
      "image/png": "[encoded data removed]",
      "text/plain": [
       "<Figure size 864x720 with 30 Axes>"
      ]
     },
     "metadata": {},
     "output_type": "display_data"
    }
   ],
   "source": [
    "plot_image_grid(x_test, t_test, pred_proba, CLASS_NAMES)"
   ]
  }
 ],
 "metadata": {
  "kernelspec": {
   "display_name": "myenv",
   "language": "python",
   "name": "myenv"
  },
  "language_info": {
   "codemirror_mode": {
    "name": "ipython",
    "version": 3
   },
   "file_extension": ".py",
   "mimetype": "text/x-python",
   "name": "python",
   "nbconvert_exporter": "python",
   "pygments_lexer": "ipython3",
   "version": "3.8.13"
  }
 },
 "nbformat": 4,
 "nbformat_minor": 2
}
